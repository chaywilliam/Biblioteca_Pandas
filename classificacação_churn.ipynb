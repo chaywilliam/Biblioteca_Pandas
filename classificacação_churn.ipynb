{
  "nbformat": 4,
  "nbformat_minor": 0,
  "metadata": {
    "colab": {
      "private_outputs": true,
      "provenance": []
    },
    "kernelspec": {
      "name": "python3",
      "display_name": "Python 3"
    },
    "language_info": {
      "name": "python"
    }
  },
  "cells": [
    {
      "cell_type": "markdown",
      "source": [
        "**Importação de Bibliotecas e Conjunto de Dados**"
      ],
      "metadata": {
        "id": "YKh7AoB88FUF"
      }
    },
    {
      "cell_type": "code",
      "execution_count": null,
      "metadata": {
        "id": "BphTS1WE7sFS"
      },
      "outputs": [],
      "source": [
        "# Importação das bibliotecas necessárias\n",
        "import pandas as pd\n",
        "import matplotlib.pyplot as plt\n",
        "import seaborn as sns\n",
        "\n",
        "# Carregar os dados\n",
        "df_customers = pd.read_csv('/content/BankChurners.csv')\n",
        "\n",
        "# Exibir as primeiras linhas para entender a estrutura\n",
        "df_customers.head()\n"
      ]
    },
    {
      "cell_type": "markdown",
      "source": [
        "**Tratamento de Dados**"
      ],
      "metadata": {
        "id": "PEJoQv228RLt"
      }
    },
    {
      "cell_type": "code",
      "source": [
        "# Verificar valores ausentes\n",
        "missing_values = df_customers.isnull().sum()\n",
        "print(\"Valores ausentes:\\n\", missing_values)\n",
        "\n",
        "# Verificar se há dados duplicados\n",
        "duplicate_rows = df_customers.duplicated().sum()\n",
        "print(\"Registros duplicados: \", duplicate_rows)\n"
      ],
      "metadata": {
        "id": "aL5nXjNZ8MWt"
      },
      "execution_count": null,
      "outputs": []
    },
    {
      "cell_type": "markdown",
      "source": [
        "**Análise Exploratória de Dados (EDA)**\n",
        "\n",
        "Distribuição de Churn (Attrition_Flag)"
      ],
      "metadata": {
        "id": "lDh2i9dn8ZvO"
      }
    },
    {
      "cell_type": "code",
      "source": [
        "# Configurações de estilo\n",
        "sns.set(style=\"whitegrid\")\n",
        "\n",
        "# Contagem da variável de churn (Attrition_Flag)\n",
        "plt.figure(figsize=(8, 6))\n",
        "sns.countplot(data=df_customers, x='Attrition_Flag', palette='Set2')\n",
        "plt.title('Distribuição de Churn (Attrition_Flag)', fontsize=14)\n",
        "plt.xlabel('Situação do Cliente', fontsize=12)\n",
        "plt.ylabel('Contagem', fontsize=12)\n",
        "plt.show()\n"
      ],
      "metadata": {
        "id": "4mY067TY8ZAb"
      },
      "execution_count": null,
      "outputs": []
    },
    {
      "cell_type": "markdown",
      "source": [
        "**Distribuição por Gênero**"
      ],
      "metadata": {
        "id": "tabUmOnN80oc"
      }
    },
    {
      "cell_type": "code",
      "source": [
        "# Distribuição por gênero\n",
        "plt.figure(figsize=(8, 6))\n",
        "sns.countplot(data=df_customers, x='Gender', palette='Set1', hue='Attrition_Flag')\n",
        "plt.title('Distribuição de Gênero por Status de Churn', fontsize=14)\n",
        "plt.xlabel('Gênero', fontsize=12)\n",
        "plt.ylabel('Contagem', fontsize=12)\n",
        "plt.show()\n"
      ],
      "metadata": {
        "id": "8SNRDvDC8w4N"
      },
      "execution_count": null,
      "outputs": []
    },
    {
      "cell_type": "markdown",
      "source": [
        "**Distribuição por Categoria de Renda**"
      ],
      "metadata": {
        "id": "SQ7sYTHS89D9"
      }
    },
    {
      "cell_type": "code",
      "source": [
        "# Distribuição por categoria de renda\n",
        "plt.figure(figsize=(10, 6))\n",
        "sns.countplot(data=df_customers, x='Income_Category', palette='Set3', hue='Attrition_Flag')\n",
        "plt.title('Distribuição de Categoria de Renda por Status de Churn', fontsize=14)\n",
        "plt.xlabel('Categoria de Renda', fontsize=12)\n",
        "plt.ylabel('Contagem', fontsize=12)\n",
        "plt.xticks(rotation=45)\n",
        "plt.show()\n"
      ],
      "metadata": {
        "id": "Z8wxnUlE9C_z"
      },
      "execution_count": null,
      "outputs": []
    },
    {
      "cell_type": "markdown",
      "source": [
        "**Pré-processamento dos Dados**"
      ],
      "metadata": {
        "id": "wWRn93bG9ymt"
      }
    },
    {
      "cell_type": "markdown",
      "source": [
        "Codificação das Variáveis Categóricas"
      ],
      "metadata": {
        "id": "OnspJwrQ94fb"
      }
    },
    {
      "cell_type": "code",
      "source": [
        "from sklearn.preprocessing import LabelEncoder\n",
        "\n",
        "# Criar uma cópia dos dados\n",
        "df_processed = df_customers.copy()\n",
        "\n",
        "# Codificar as variáveis categóricas\n",
        "le = LabelEncoder()\n",
        "\n",
        "categorical_cols = ['Gender', 'Education_Level', 'Marital_Status', 'Income_Category', 'Card_Category', 'Attrition_Flag']\n",
        "for col in categorical_cols:\n",
        "    df_processed[col] = le.fit_transform(df_processed[col])\n",
        "\n",
        "# Verificar se a codificação foi aplicada corretamente\n",
        "df_processed.head()\n"
      ],
      "metadata": {
        "id": "sClsOG-49aqr"
      },
      "execution_count": null,
      "outputs": []
    },
    {
      "cell_type": "markdown",
      "source": [
        "**Divisão do Conjunto de Dados**"
      ],
      "metadata": {
        "id": "M8ETmTX3-Hvl"
      }
    },
    {
      "cell_type": "code",
      "source": [
        "from sklearn.model_selection import train_test_split\n",
        "\n",
        "# Definir as variáveis X e Y\n",
        "X = df_processed.drop(columns=['Attrition_Flag', 'CLIENTNUM'])  # Retirando a variável alvo e o identificador único\n",
        "Y = df_processed['Attrition_Flag']\n",
        "\n",
        "# Dividir em conjuntos de treino e teste (80% treino, 20% teste)\n",
        "X_train, X_test, Y_train, Y_test = train_test_split(X, Y, test_size=0.2, random_state=42)\n",
        "\n",
        "print(\"Conjunto de treino:\", X_train.shape, Y_train.shape)\n",
        "print(\"Conjunto de teste:\", X_test.shape, Y_test.shape)\n"
      ],
      "metadata": {
        "id": "qrTWi2mU-Mo0"
      },
      "execution_count": null,
      "outputs": []
    },
    {
      "cell_type": "markdown",
      "source": [
        "**Aplicação do SMOTE para Balanceamento**"
      ],
      "metadata": {
        "id": "Z4UEkxJn-VJr"
      }
    },
    {
      "cell_type": "code",
      "source": [
        "from imblearn.over_sampling import SMOTE\n",
        "\n",
        "# Aplicar SMOTE no conjunto de treino\n",
        "smote = SMOTE(random_state=42)\n",
        "X_train_smote, Y_train_smote = smote.fit_resample(X_train, Y_train)\n",
        "\n",
        "# Verificar o balanceamento após SMOTE\n",
        "print(\"Distribuição das classes após SMOTE:\", Y_train_smote.value_counts())\n"
      ],
      "metadata": {
        "id": "3-X-2E51-PsC"
      },
      "execution_count": null,
      "outputs": []
    },
    {
      "cell_type": "markdown",
      "source": [
        "**Treinamento e Avaliação de Modelos**"
      ],
      "metadata": {
        "id": "RvGbACvg-hBV"
      }
    },
    {
      "cell_type": "code",
      "source": [
        "from sklearn.ensemble import RandomForestClassifier\n",
        "from sklearn.metrics import classification_report, confusion_matrix\n",
        "\n",
        "# Criar e treinar o modelo de Random Forest\n",
        "rf_model = RandomForestClassifier(random_state=42)\n",
        "rf_model.fit(X_train_smote, Y_train_smote)\n",
        "\n",
        "# Prever no conjunto de teste\n",
        "Y_pred = rf_model.predict(X_test)\n",
        "\n",
        "# Avaliação do modelo\n",
        "print(\"Matriz de Confusão:\\n\", confusion_matrix(Y_test, Y_pred))\n",
        "print(\"\\nRelatório de Classificação:\\n\", classification_report(Y_test, Y_pred))\n"
      ],
      "metadata": {
        "id": "ELZQb18n-c5s"
      },
      "execution_count": null,
      "outputs": []
    },
    {
      "cell_type": "markdown",
      "source": [
        "**Análise da Curva ROC e AUC**"
      ],
      "metadata": {
        "id": "xwHx1LxF-UZC"
      }
    },
    {
      "cell_type": "code",
      "source": [
        "from sklearn.metrics import roc_curve, roc_auc_score\n",
        "\n",
        "# Calcular as probabilidades de predição\n",
        "Y_prob = rf_model.predict_proba(X_test)[:, 1]\n",
        "\n",
        "# Calcular a curva ROC\n",
        "fpr, tpr, thresholds = roc_curve(Y_test, Y_prob)\n",
        "auc_score = roc_auc_score(Y_test, Y_prob)\n",
        "\n",
        "# Plotar a curva ROC\n",
        "plt.figure(figsize=(8, 6))\n",
        "plt.plot(fpr, tpr, label=f'Random Forest (AUC = {auc_score:.2f})')\n",
        "plt.plot([0, 1], [0, 1], linestyle='--', color='gray')\n",
        "plt.xlabel('Taxa de Falsos Positivos (FPR)', fontsize=12)\n",
        "plt.ylabel('Taxa de Verdadeiros Positivos (TPR)', fontsize=12)\n",
        "plt.title('Curva ROC', fontsize=14)\n",
        "plt.legend()\n",
        "plt.show()\n"
      ],
      "metadata": {
        "id": "bFjL4swq-q4C"
      },
      "execution_count": null,
      "outputs": []
    }
  ]
}